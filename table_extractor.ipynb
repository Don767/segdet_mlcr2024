{
 "cells": [
  {
   "cell_type": "code",
   "execution_count": 117,
   "metadata": {},
   "outputs": [],
   "source": [
    "# Imports\n",
    "import csv\n",
    "import os\n",
    "import sys"
   ]
  },
  {
   "cell_type": "code",
   "execution_count": 118,
   "metadata": {},
   "outputs": [],
   "source": [
    "config_to_text = {\n",
    "    'centernet-update_r50-caffe_fpn_ms-1x_coco_centernet-update_r50-caffe_fpn_ms-1x_coco.csv': 'CenterNet R50',\n",
    "    'centernet-update_r50-caffe_fpn_ms-1x_coco.py': 'CenterNet R50',\n",
    "    'conditional-detr_r50_8xb2-50e_coco_conditional-detr_r50_8xb2-50e_coco.csv': 'Cond. DETR R50',\n",
    "    'dab-detr_r50_8xb2-50e_coco_dab-detr_r50_8xb2-50e_coco.csv': 'DAB DETR R50',\n",
    "    'deformable-detr_r50_16xb2-50e_coco_deformable-detr_r50_16xb2-50e_coco.csv': 'Deformable DETR R50',\n",
    "    'deformable-detr-refine-twostage_r50_16xb2-50e_coco_deformable-detr-refine-twostage_r50_16xb2-50e_coco.csv': 'Deformable DETR R50 (2 stages)',\n",
    "    'detr_r50_8xb2-150e_coco_detr_r50_8xb2-150e_coco.csv': 'DETR R50',\n",
    "    'dino-4scale_r50_improved_8xb2-12e_coco_dino-4scale_r50_improved_8xb2-12e_coco.csv': 'DINO-4 R50',\n",
    "    'dino-5scale_swin-l_8xb2-36e_coco_dino-5scale_swin-l_8xb2-36e_coco.csv': 'DINO-5 Swin',\n",
    "    'faster-rcnn_x101-64x4d_fpn_ms-3x_coco_faster-rcnn_x101-64x4d_fpn_ms-3x_coco.csv': 'Faster R-CNN Swin',\n",
    "    'cascade-mask-rcnn_r101_fpn_ms-3x_coco_cascade-mask-rcnn_r101_fpn_ms-3x_coco.csv': 'Mask R-CNN R101',\n",
    "    'cascade-mask-rcnn_r101_fpn_ms-3x_coco.py': 'Mask R-CNN R101',\n",
    "    'cascade-mask-rcnn_r50_fpn_1x_coco_cascade-mask-rcnn_r50_fpn_1x_coco.csv': 'Mask R-CNN R50',\n",
    "    'cascade-mask-rcnn_r50_fpn_1x_coco.py': 'Mask R-CNN R50',\n",
    "    'mask-rcnn_swin-t-p4-w7_fpn_1x_coco_mask-rcnn_swin-t-p4-w7_fpn_1x_coco.csv': 'Mask R-CNN Swin',\n",
    "    'mask-rcnn_swin-t-p4-w7_fpn_1x_coco.py': 'Mask R-CNN Swin',\n",
    "    'mask-rcnn_swin-t-p4-w7_fpn_ms-crop-3x_coco.py': 'Mask R-CNN Swin',\n",
    "    'mask-rcnn_swin-t-p4-w7_fpn_ms-crop-3x_coco_mask-rcnn_swin-t-p4-w7_fpn_ms-crop-3x_coco.csv': 'Mask R-CNN Swin (Crop)',\n",
    "    'cascade-mask-rcnn_x101-64x4d_fpn_ms-3x_coco_cascade-mask-rcnn_x101-64x4d_fpn_ms-3x_coco.csv': 'Mask R-CNN X101',\n",
    "    'cascade-rpn_faster-rcnn_r50-caffe_fpn_1x_coco_cascade-rpn_faster-rcnn_r50-caffe_fpn_1x_coco.csv': 'Faster R-CNN R50',\n",
    "    'cascade-rpn_faster-rcnn_r50-caffe_fpn_1x_coco.py': 'Faster R-CNN R50',\n",
    "    'cascade-mask-rcnn_x101-64x4d_fpn_ms-3x_coco.py': 'Mask R-CNN X101',\n",
    "    'faster-rcnn_x101-64x4d_fpn_ms-3x_coco.py': 'Faster R-CNN X101',\n",
    "    'retinanet_effb3_fpn_8xb4-crop896-1x_coco_retinanet_effb3_fpn_8xb4-crop896-1x_coco.csv': 'RetinaNet',\n",
    "    'retinanet_effb3_fpn_8xb4-crop896-1x_coco.py': 'RetinaNet',\n",
    "    'rtmdet-ins_m_8xb32-300e_coco_rtmdet-ins_m_8xb32-300e_coco.csv': 'RTMDet-ins m',\n",
    "    'rtmdet-ins_m_8xb32-300e_coco.py': 'RTMDet-ins m',\n",
    "    'rtmdet-ins_tiny_8xb32-300e_coco_rtmdet-ins_tiny_8xb32-300e_coco.csv': 'RTMDet-ins tiny',\n",
    "    'rtmdet-ins_tiny_8xb32-300e_coco.py': 'RTMDet-ins tiny',\n",
    "    'rtmdet_x_8xb32-300e_coco_rtmdet_x_8xb32-300e_coco.csv': 'RTMDet-x',\n",
    "    'rtmdet_x_8xb32-300e_coco.py': 'RTMDet-x',\n",
    "    'yolof_r50-c5_8xb8-1x_coco_yolof_r50-c5_8xb8-1x_coco.csv': 'YOLOf R50',\n",
    "    'yolof_r50-c5_8xb8-1x_coco.py': 'YOLOf R50',\n",
    "    'yolov3_d53_8xb8-320-273e_coco_yolov3_d53_8xb8-320-273e_coco.csv': 'YOLOv3 d53',\n",
    "    'yolov3_d53_8xb8-320-273e_coco.py': 'YOLOv3 d53',\n",
    "    'yolov3_mobilenetv2_8xb24-320-300e_coco.py': 'YOLOv3 MobileNetV2',\n",
    "    'yolox_l_8xb8-300e_coco_yolox_l_8xb8-300e_coco.csv': 'YOLOX-l',\n",
    "    'yolox_l_8xb8-300e_coco.py': 'YOLOX-l',\n",
    "    'yolox_s_8xb8-300e_coco_yolox_s_8xb8-300e_coco.csv': 'YOLOX-s',\n",
    "    'yolox_s_8xb8-300e_coco.py': 'YOLOX-s',\n",
    "    'yolox_tiny_8xb8-300e_coco_yolox_tiny_8xb8-300e_coco.csv': 'YOLOX-tiny',\n",
    "    'yolox_tiny_8xb8-300e_coco.py': 'YOLOX-tiny',\n",
    "    'yolox_x_8xb8-300e_coco_yolox_x_8xb8-300e_coco.csv': 'YOLOX-x',\n",
    "    'yolox_x_8xb8-300e_coco.py': 'YOLOX-x',\n",
    "    'vitdet.py': 'ViTDet (ours)',\n",
    "    'rtmdet.py': 'RTMDet (ours)',\n",
    "    'detr.py': 'DETR (ours)',\n",
    "}"
   ]
  },
  {
   "cell_type": "code",
   "execution_count": 119,
   "metadata": {},
   "outputs": [],
   "source": [
    "# Read the first row of the csv to get the column names\n",
    "def read_csv_header(file_path):\n",
    "    with open(file_path, 'r') as file:\n",
    "        reader = csv.reader(file)\n",
    "        header = next(reader)\n",
    "    return header"
   ]
  },
  {
   "cell_type": "code",
   "execution_count": 120,
   "metadata": {},
   "outputs": [],
   "source": [
    "# Read the first row of the csv to get all the data\n",
    "def get_csv_data(file_path):\n",
    "    with open(file_path, 'r') as file:\n",
    "        reader = csv.reader(file)\n",
    "        column_names = next(reader)\n",
    "        values = next(reader)\n",
    "    return zip(column_names, values)"
   ]
  },
  {
   "cell_type": "code",
   "execution_count": 121,
   "metadata": {},
   "outputs": [],
   "source": [
    "# Convert the config file to a name\n",
    "def convert_config_to_name(config_file: str):\n",
    "    to_string = str(config_file)  # cast to string\n",
    "    matches = to_string.split('/')\n",
    "    result = matches[-1].split('.')\n",
    "    return config_to_text[result[0]]"
   ]
  },
  {
   "cell_type": "code",
   "execution_count": 122,
   "metadata": {},
   "outputs": [],
   "source": [
    "# Get a list of all the files in directory\n",
    "def get_files_in_directory(directory):\n",
    "    files = []\n",
    "    for file in os.listdir(directory):\n",
    "        if file.endswith(\".csv\"):\n",
    "            files.append(file)\n",
    "    return files"
   ]
  },
  {
   "cell_type": "code",
   "execution_count": 123,
   "metadata": {},
   "outputs": [],
   "source": [
    "# Create a csv file named with the directory name and the column names we want to fill\n",
    "def create_csv_file(directory, column_names):\n",
    "    with open(directory + '.csv', 'w') as file:\n",
    "        writer = csv.writer(file)\n",
    "        writer.writerow(column_names)"
   ]
  },
  {
   "cell_type": "code",
   "execution_count": 124,
   "metadata": {},
   "outputs": [],
   "source": [
    "# Write the values to the csv file with the first column being the name of the config file\n",
    "def write_values_to_csv(directory, values):\n",
    "    with open(directory + '.csv', 'a') as file:\n",
    "        writer = csv.writer(file)\n",
    "        writer.writerow(values)"
   ]
  },
  {
   "cell_type": "code",
   "execution_count": 125,
   "metadata": {},
   "outputs": [],
   "source": [
    "# Create a dictionary from the csv file\n",
    "def create_dictionary_from_csv(file_path):\n",
    "    with open(file_path, 'r') as file:\n",
    "        reader = csv.DictReader(file)\n",
    "        data = {row['Name']: row for row in reader}\n",
    "    return data"
   ]
  },
  {
   "cell_type": "code",
   "execution_count": 126,
   "metadata": {},
   "outputs": [],
   "source": [
    "# Return a dict of config files and their values based on the column name\n",
    "def get_values_from_csv(file_path, column_name):\n",
    "    with open(file_path, 'r') as file:\n",
    "        reader = csv.DictReader(file)\n",
    "        data = {row['Name']: row[column_name] for row in reader}\n",
    "    return data"
   ]
  },
  {
   "cell_type": "code",
   "execution_count": 127,
   "metadata": {},
   "outputs": [
    {
     "name": "stdout",
     "output_type": "stream",
     "text": [
      "{'data/mmdetection/configs/conditional_detr/conditional-detr_r50_8xb2-50e_coco.py': '0.435', 'data/mmdetection/configs/detr/detr_r50_8xb2-150e_coco.py': '0.417', 'data/mmdetection/configs/rtmdet/rtmdet-ins_tiny_8xb32-300e_coco.py': '0.44', 'data/mmdetection/configs/cascade_rcnn/cascade-mask-rcnn_r101_fpn_ms-3x_coco.py': '0.499', 'config/detr.py': '0.0', 'data/mmdetection/configs/yolo/yolov3_d53_8xb8-320-273e_coco.py': '0.283', 'data/mmdetection/configs/yolox/yolox_tiny_8xb8-300e_coco.py': '0.338', 'data/mmdetection/configs/deformable_detr/deformable-detr_r50_16xb2-50e_coco.py': '0.486', 'data/mmdetection/configs/yolof/yolof_r50-c5_8xb8-1x_coco.py': '0.404', 'data/mmdetection/configs/yolox/yolox_x_8xb8-300e_coco.py': '0.55', 'data/mmdetection/configs/cascade_rcnn/cascade-mask-rcnn_r50_fpn_1x_coco.py': '0.449', 'data/mmdetection/configs/dab_detr/dab-detr_r50_8xb2-50e_coco.py': '0.452', 'data/mmdetection/configs/efficientnet/retinanet_effb3_fpn_8xb4-crop896-1x_coco.py': '0.43', 'data/mmdetection/configs/cascade_rpn/cascade-rpn_faster-rcnn_r50-caffe_fpn_1x_coco.py': '0.439', 'data/mmdetection/configs/centernet/centernet-update_r50-caffe_fpn_ms-1x_coco.py': '0.438', 'data/mmdetection/configs/cascade_rcnn/cascade-mask-rcnn_x101-64x4d_fpn_ms-3x_coco.py': '0.506', 'config/vitdet.py': '0.084', 'data/mmdetection/configs/swin/mask-rcnn_swin-t-p4-w7_fpn_1x_coco.py': '0.468', 'data/mmdetection/configs/dino/dino-4scale_r50_improved_8xb2-12e_coco.py': '0.546', 'data/mmdetection/configs/yolox/yolox_s_8xb8-300e_coco.py': '0.434', 'config/rtmdet.py': '0.481', 'data/mmdetection/configs/swin/mask-rcnn_swin-t-p4-w7_fpn_ms-crop-3x_coco.py': '0.503', 'data/mmdetection/configs/rtmdet/rtmdet-ins_m_8xb32-300e_coco.py': '0.535', 'data/mmdetection/configs/rtmdet/rtmdet_x_8xb32-300e_coco.py': '0.577', 'data/mmdetection/configs/yolo/yolov3_mobilenetv2_8xb24-320-300e_coco.py': '0.214', 'data/mmdetection/configs/yolox/yolox_l_8xb8-300e_coco.py': '0.532', 'data/mmdetection/configs/faster_rcnn/faster-rcnn_x101-64x4d_fpn_ms-3x_coco.py': '0.473', 'data/mmdetection/configs/deformable_detr/deformable-detr-refine-twostage_r50_16xb2-50e_coco.py': '0.509', 'data/mmdetection/configs/dino/dino-5scale_swin-l_8xb2-36e_coco.py': '0.642'}\n"
     ]
    }
   ],
   "source": [
    "directory = \"results/RTX-4090\"\n",
    "\n",
    "files = get_files_in_directory(directory)\n",
    "# Get the column names from the first file\n",
    "column_names = read_csv_header(directory + '/' + files[0])\n",
    "# Add a column for the file name\n",
    "column_names = ['Name'] + column_names\n",
    "# Create a csv file with the column names\n",
    "create_csv_file(directory, column_names)\n",
    "# Read all the data in the files\n",
    "for file in files:\n",
    "    file_path = directory + '/' + file\n",
    "    data = get_csv_data(file_path)\n",
    "    values = [value for _, value in data]\n",
    "    # Write the values to the csv file\n",
    "    write_values_to_csv(directory, values)\n",
    "\n",
    "# Get the values of the AP50 column\n",
    "ap50_values = get_values_from_csv(directory + '.csv', 'AP50')\n",
    "print(ap50_values)"
   ]
  }
 ],
 "metadata": {
  "kernelspec": {
   "display_name": "venv",
   "language": "python",
   "name": "python3"
  },
  "language_info": {
   "codemirror_mode": {
    "name": "ipython",
    "version": 3
   },
   "file_extension": ".py",
   "mimetype": "text/x-python",
   "name": "python",
   "nbconvert_exporter": "python",
   "pygments_lexer": "ipython3",
   "version": "3.10.12"
  }
 },
 "nbformat": 4,
 "nbformat_minor": 2
}
